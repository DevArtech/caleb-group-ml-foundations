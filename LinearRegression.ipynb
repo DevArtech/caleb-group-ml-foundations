{
 "cells": [
  {
   "cell_type": "markdown",
   "metadata": {},
   "source": [
    "# Linear Regression Example\n",
    "Adam Haile - 2/19/2024\n",
    "\n",
    "## Data Import"
   ]
  },
  {
   "cell_type": "code",
   "execution_count": 29,
   "metadata": {},
   "outputs": [],
   "source": [
    "# Run if you don't have the packages installed\n",
    "# %pip install numpy matplotlib scikit-learn pandas"
   ]
  },
  {
   "cell_type": "code",
   "execution_count": 30,
   "metadata": {},
   "outputs": [],
   "source": [
    "import numpy as np\n",
    "import matplotlib.pyplot as plt\n",
    "import pandas as pd\n",
    "from sklearn.linear_model import LinearRegression\n",
    "from sklearn.model_selection import train_test_split\n",
    "from sklearn.datasets import fetch_openml"
   ]
  },
  {
   "cell_type": "markdown",
   "metadata": {},
   "source": [
    "## Get Sample Data\n",
    "For this example, we are going to use the Bostom Housing Dataset. This dataset contains some feature information about houses in the Bostom area including age of house, tax price, and others. If you want to learn more about the features, check out https://lib.stat.cmu.edu/datasets/boston"
   ]
  },
  {
   "cell_type": "code",
   "execution_count": null,
   "metadata": {},
   "outputs": [],
   "source": [
    "boston = fetch_openml(name=\"boston\", version=1, as_frame=True)\n",
    "df = boston.frame\n",
    "df.head()"
   ]
  },
  {
   "cell_type": "markdown",
   "metadata": {},
   "source": [
    "## Training/Testing Splits\n",
    "\n",
    "Spliting our data is important so we can compare our final model and make sure it is generalizing appropriately to the learned data points."
   ]
  },
  {
   "cell_type": "code",
   "execution_count": 32,
   "metadata": {},
   "outputs": [],
   "source": [
    "X = df[['RM']].values # Independent Variable, feel free to try out others, for our example we will use rm (average number of rooms per dwelling)\n",
    "y = df['MEDV'].values # Dependent Variable, we want to predict the median value of owner-occupied homes in $1000's\n",
    "\n",
    "X_train, X_test, y_train, y_test = train_test_split(X, y, test_size=0.2, random_state=42)"
   ]
  },
  {
   "cell_type": "markdown",
   "metadata": {},
   "source": [
    "## Visualizing our Data\n",
    "\n",
    "Let's see how our variables look plotted against each other and see if we can spot a trend already."
   ]
  },
  {
   "cell_type": "code",
   "execution_count": null,
   "metadata": {},
   "outputs": [],
   "source": [
    "plt.figure(figsize=(10,6))\n",
    "plt.scatter(X, y, color='blue', alpha=0.5)\n",
    "plt.xlabel('Average Number of Rooms')\n",
    "plt.ylabel('Median Home Value ($1000s)')\n",
    "plt.title('Boston Housing: Price vs Number of Rooms')\n",
    "plt.show()"
   ]
  },
  {
   "cell_type": "markdown",
   "metadata": {},
   "source": [
    "So we can see there is a pretty generally linear trend, but there are definetly points that fall outside our linear points. Let's see what a model thinks is the most optimal line?"
   ]
  },
  {
   "cell_type": "markdown",
   "metadata": {},
   "source": [
    "## Training a Linear Regression Model\n",
    "\n",
    "For this, we are going to use a library called SKLearn which has a bunch of ML models predefined and ready for us to provide our data to and get a trained model. You should be able to run this locally without issues or time delays."
   ]
  },
  {
   "cell_type": "code",
   "execution_count": null,
   "metadata": {},
   "outputs": [],
   "source": [
    "model = LinearRegression()\n",
    "model.fit(X_train, y_train)"
   ]
  },
  {
   "cell_type": "markdown",
   "metadata": {},
   "source": [
    "Great! We have a model! Let's test it.\n",
    "\n",
    "## Evaluating our Linear Regression Model"
   ]
  },
  {
   "cell_type": "code",
   "execution_count": null,
   "metadata": {},
   "outputs": [],
   "source": [
    "y_pred = model.predict(X_test)\n",
    "\n",
    "plt.scatter(X_test, y_test, color=\"blue\", label=\"Actual prices\")\n",
    "plt.plot(X_test, y_pred, color=\"red\", linewidth=2, label=\"Regression line\")\n",
    "plt.xlabel(\"Average number of rooms per dwelling (RM)\")\n",
    "plt.ylabel(\"Median house price (MEDV)\")\n",
    "plt.legend()\n",
    "plt.title(\"Linear Regression on Boston Housing Data\")\n",
    "plt.show()\n",
    "\n",
    "print(f\"Intercept: {model.intercept_:.2f}\")\n",
    "print(f\"Coefficient: {model.coef_[0]:.2f}\")"
   ]
  },
  {
   "cell_type": "markdown",
   "metadata": {},
   "source": [
    "So, we can see our trained model got a regression line of y = 9.35x - 36.25, let's look at how well it's performing with this example.\n",
    "\n",
    "## Calculating Error of Linear Regression"
   ]
  },
  {
   "cell_type": "code",
   "execution_count": null,
   "metadata": {},
   "outputs": [],
   "source": [
    "from sklearn.metrics import mean_squared_error, mean_absolute_error, r2_score\n",
    "\n",
    "# Compute error metrics\n",
    "mse = mean_squared_error(y_test, y_pred)\n",
    "rmse = np.sqrt(mse)\n",
    "mae = mean_absolute_error(y_test, y_pred)\n",
    "r2 = r2_score(y_test, y_pred)\n",
    "\n",
    "# Print results\n",
    "print(f\"Mean Squared Error (MSE): {mse:.2f}\")\n",
    "print(f\"Root Mean Squared Error (RMSE): {rmse:.2f}\")\n",
    "print(f\"Mean Absolute Error (MAE): {mae:.2f}\")\n",
    "print(f\"R² Score: {r2:.2f}\")"
   ]
  },
  {
   "cell_type": "markdown",
   "metadata": {},
   "source": [
    "How do we interpret these results?\n",
    "- Mean Squared Error (MSE) is going to be the average squared differences between the acutal values ($y_i$) and the predicted values ($\\hat{y_i}$). Squaring helps to ensure the errors are positive and penalizes large errors more than smaller errors. For MSE, lower = better fit.\n",
    "  * $MSE = \\frac{1}{n}\\sum^n_{i=1}{(y_i - \\hat{y_i})^2}$\n",
    "\n",
    "- Root Mean Squared Error (RMSE) is just applying a square root to MSE which will bring the error back to the same unit as the target variable. It makes it more interpretable than MSE because it is directly related to the dataset's scale. Same as MSE, lower = better model performance.\n",
    "  * $RMSE = \\sqrt{MSE}$\n",
    "\n",
    "- MAE is the same as MSE, but applying an absolute value instead of a squaring of the predicted and actual values. It doesn't penalize larger errors as much, however it is **more robust to outliers than MSE/RMSE**.\n",
    "  * $MSE = \\frac{1}{n}\\sum^n_{i=1}{|y_i - \\hat{y_i}|}$\n",
    "\n",
    "- $R^2$ measures how well the model explains variability in the target variable. This is a standard statistical value which ranges from 0 to 1, where $R^2$ = 1 means the model is completely perfect, 100% of variance is explained in the model. An $R^2$ = 0 means the model is no better than predicting the mean of y. A negative $R^2$ means it is worse than predicting the mean.\n",
    "  * $R^2 = 1 - \\frac{\\sum{(y_i - \\hat{y_i})^2}}{\\sum(y_i - \\bar{y})^2}$ ($\\bar{y}$ = Average of y)\n",
    "\n",
    "\n",
    "So understanding this, we can see the model isn't perfect for this dataset, but it is better than predicting the mean/random chance. Let's try it out on another dataset. This time, I want you to fill in where it says `TODO`."
   ]
  },
  {
   "cell_type": "code",
   "execution_count": 37,
   "metadata": {},
   "outputs": [],
   "source": [
    "## Import packages\n",
    "import numpy as np\n",
    "import matplotlib.pyplot as plt\n",
    "from sklearn import datasets\n",
    "from sklearn.model_selection import train_test_split\n",
    "from sklearn.linear_model import LinearRegression\n",
    "from sklearn.metrics import mean_squared_error"
   ]
  },
  {
   "cell_type": "markdown",
   "metadata": {},
   "source": [
    "This time, we are going to look at the IRIS dataset. This dataset contains data on iris flowers. You can learn more about it at https://scikit-learn.org/1.4/auto_examples/datasets/plot_iris_dataset.html. "
   ]
  },
  {
   "cell_type": "code",
   "execution_count": 40,
   "metadata": {},
   "outputs": [],
   "source": [
    "iris = datasets.load_iris()\n",
    "X = ... # TODO: Fill in the feature for Sepal Length (cm)\n",
    "y = ... # TODO: Fill in the target for Petal Length (cm)"
   ]
  },
  {
   "cell_type": "markdown",
   "metadata": {},
   "source": [
    "If you think you have the above section filled in correctly, you can continue on with the next cells. If you need some help, you can reveal the answer.\n",
    "<p>\n",
    "<details>\n",
    "<summary>Click here to reveal the answer</summary>\n",
    "\n",
    "<pre><code>\n",
    "X = iris.data[:, 0].reshape(-1, 1)\n",
    "y = iris.data[:, 2]\n",
    "</code></pre>\n",
    "\n",
    "</details>\n",
    "</p>"
   ]
  },
  {
   "cell_type": "code",
   "execution_count": 41,
   "metadata": {},
   "outputs": [],
   "source": [
    "# Let's create our train/test split\n",
    "X_train, X_test, y_train, y_test = train_test_split(X, y, test_size=0.2, random_state=42)"
   ]
  },
  {
   "cell_type": "code",
   "execution_count": null,
   "metadata": {},
   "outputs": [],
   "source": [
    "model = LinearRegression()\n",
    "model.fit(..., ...) # TODO: Fill in the feature and target for training"
   ]
  },
  {
   "cell_type": "markdown",
   "metadata": {},
   "source": [
    "If you think you have the above section filled in correctly, you can continue on with the next cells. If you need some help, you can reveal the answer.\n",
    "<p>\n",
    "<details>\n",
    "<summary>Click here to reveal the answer</summary>\n",
    "\n",
    "<pre><code>\n",
    "model.fit(X_train, y_train)\n",
    "</code></pre>\n",
    "\n",
    "</details>\n",
    "</p>"
   ]
  },
  {
   "cell_type": "code",
   "execution_count": 43,
   "metadata": {},
   "outputs": [],
   "source": [
    "y_pred = model.predict(X_test)"
   ]
  },
  {
   "cell_type": "code",
   "execution_count": null,
   "metadata": {},
   "outputs": [],
   "source": [
    "mse = mean_squared_error(..., ...) # TODO: Fill in the target and predicted values\n",
    "print(f\"Mean Squared Error: {mse:.4f}\")"
   ]
  },
  {
   "cell_type": "markdown",
   "metadata": {},
   "source": [
    "If you think you have the above section filled in correctly, you can continue on with the next cells. If you need some help, you can reveal the answer.\n",
    "<p>\n",
    "<details>\n",
    "<summary>Click here to reveal the answer</summary>\n",
    "\n",
    "<pre><code>\n",
    "mse = mean_squared_error(y_test, y_pred)\n",
    "</code></pre>\n",
    "\n",
    "</details>\n",
    "</p>"
   ]
  },
  {
   "cell_type": "code",
   "execution_count": null,
   "metadata": {},
   "outputs": [],
   "source": [
    "plt.scatter(..., ..., color='blue', label='Actual') # TODO: Fill in the necessary values to plot the actual testing points \n",
    "plt.plot(..., ..., color='red', linewidth=2, label='Predicted') # TODO: Fill in the necessary values to plot the predicted linear regression line\n",
    "plt.xlabel('Sepal Length (cm)')\n",
    "plt.ylabel('Petal Length (cm)')\n",
    "plt.title('Linear Regression on IRIS Dataset')\n",
    "plt.legend()\n",
    "plt.show()"
   ]
  },
  {
   "cell_type": "markdown",
   "metadata": {},
   "source": [
    "If you think you have the above section filled in correctly, you can continue on with the next cells. If you need some help, you can reveal the answer.\n",
    "<p>\n",
    "<details>\n",
    "<summary>Click here to reveal the answer</summary>\n",
    "\n",
    "<pre><code>\n",
    "plt.scatter(X_test, y_test, color='blue', label='Actual')\n",
    "plt.plot(X_test, y_pred, color='red', linewidth=2, label='Predicted')\n",
    "</code></pre>\n",
    "\n",
    "</details>\n",
    "</p>\n",
    "\n",
    "You should now have trained two different Linear Regression models! I would encourage you now to look into making your own linear regression from scratch, not using SKLearn. As always, the internet is a bountiful place to find plenty of information on how to do so.\n",
    "- https://en.wikipedia.org/wiki/Linear_regression\n",
    "- https://www.geeksforgeeks.org/ml-linear-regression/\n",
    "- https://scikit-learn.org/stable/modules/generated/sklearn.linear_model.LinearRegression.html"
   ]
  }
 ],
 "metadata": {
  "kernelspec": {
   "display_name": "Python 3",
   "language": "python",
   "name": "python3"
  },
  "language_info": {
   "codemirror_mode": {
    "name": "ipython",
    "version": 3
   },
   "file_extension": ".py",
   "mimetype": "text/x-python",
   "name": "python",
   "nbconvert_exporter": "python",
   "pygments_lexer": "ipython3",
   "version": "3.12.6"
  }
 },
 "nbformat": 4,
 "nbformat_minor": 2
}
